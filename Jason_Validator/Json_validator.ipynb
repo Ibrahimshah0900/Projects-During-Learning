{
 "cells": [
  {
   "cell_type": "code",
   "execution_count": 11,
   "id": "e4585037-940c-416b-a48c-064878691750",
   "metadata": {},
   "outputs": [],
   "source": [
    "import json  \n",
    "from jsonschema import validate, ValidationError, SchemaError\n",
    "\n",
    "\n"
   ]
  },
  {
   "cell_type": "code",
   "execution_count": 13,
   "id": "799d9eba-6bf5-423c-b6db-f463b9935603",
   "metadata": {},
   "outputs": [],
   "source": [
    "# Define the schema for validation\n",
    "schema = {\n",
    "    \"type\": \"object\",\n",
    "    \"properties\": {\n",
    "        \"name\": {\"type\": \"string\"},\n",
    "        \"email\": {\"type\": \"string\", \"format\": \"email\"},\n",
    "        \"age\": {\"type\": \"integer\", \"minimum\": 0}\n",
    "    },\n",
    "    \"required\": [\"name\", \"email\", \"age\"]\n",
    "}\n",
    "\n"
   ]
  },
  {
   "cell_type": "code",
   "execution_count": 15,
   "id": "73876386-fffe-4979-8f5a-4bb32a498f36",
   "metadata": {},
   "outputs": [],
   "source": [
    "# Function to load data from a JSON file and validate it\n",
    "def validate_json_file(file_path):\n",
    "    try:\n",
    "        with open(file_path, \"r\") as file:\n",
    "            json_data = json.load(file)  # 'json' should be lowercase here\n",
    "        \n",
    "        # Validate the JSON data against the schema\n",
    "        validate(instance=json_data, schema=schema)\n",
    "        print(\"JSON is valid\")\n",
    "    \n",
    "    except FileNotFoundError:\n",
    "        print(f\"File {file_path} not found\")\n",
    "    except json.JSONDecodeError as e:\n",
    "        print(f\"Invalid JSON format: {e}\")\n",
    "    except ValidationError as e:\n",
    "        print(\"Validation Error:\", e.message)\n",
    "    except SchemaError as e:\n",
    "        print(\"Schema Error:\", e.message)\n",
    "\n"
   ]
  },
  {
   "cell_type": "code",
   "execution_count": 17,
   "id": "9b94274a-0bd9-4eb2-ba1c-44fde4ace5b7",
   "metadata": {},
   "outputs": [
    {
     "name": "stdout",
     "output_type": "stream",
     "text": [
      "JSON is valid\n"
     ]
    }
   ],
   "source": [
    "# Example usage\n",
    "validate_json_file(\"user_profile.json\")"
   ]
  },
  {
   "cell_type": "code",
   "execution_count": null,
   "id": "c72c96c0-4fe6-4415-916a-37904115ef00",
   "metadata": {},
   "outputs": [],
   "source": []
  }
 ],
 "metadata": {
  "kernelspec": {
   "display_name": "Python 3 (ipykernel)",
   "language": "python",
   "name": "python3"
  },
  "language_info": {
   "codemirror_mode": {
    "name": "ipython",
    "version": 3
   },
   "file_extension": ".py",
   "mimetype": "text/x-python",
   "name": "python",
   "nbconvert_exporter": "python",
   "pygments_lexer": "ipython3",
   "version": "3.12.4"
  }
 },
 "nbformat": 4,
 "nbformat_minor": 5
}
