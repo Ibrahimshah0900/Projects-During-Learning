{
 "cells": [
  {
   "cell_type": "code",
   "execution_count": 52,
   "id": "ae3d7167-ca86-44de-9edb-45d51b017e97",
   "metadata": {},
   "outputs": [],
   "source": [
    "import json\n",
    "import pandas as pd\n",
    "import difflib\n"
   ]
  },
  {
   "cell_type": "code",
   "execution_count": 54,
   "id": "13682daf-b934-4183-93d3-14aca8ad839e",
   "metadata": {},
   "outputs": [],
   "source": [
    "# Load JSON data\n",
    "with open('movies.json', 'r') as f:\n",
    "    movies_data = json.load(f)\n"
   ]
  },
  {
   "cell_type": "code",
   "execution_count": 56,
   "id": "c70c502e-cf0d-4585-86c3-69184281bd23",
   "metadata": {},
   "outputs": [],
   "source": [
    "# Convert JSON data to a DataFrame\n",
    "movies_df = pd.DataFrame(movies_data['movies'])\n"
   ]
  },
  {
   "cell_type": "code",
   "execution_count": 58,
   "id": "a6bdfc5d-aff8-476b-b60d-fa328ec1b9e2",
   "metadata": {},
   "outputs": [],
   "source": [
    "# Get a unique list of genres\n",
    "available_genres = movies_df['genre'].unique()\n",
    "\n",
    "# Function to get the closest match for genres\n",
    "def get_closest_genre(input_genre):\n",
    "    closest_matches = difflib.get_close_matches(input_genre, available_genres, n=1, cutoff=0.6)\n",
    "    return closest_matches[0] if closest_matches else None"
   ]
  },
  {
   "cell_type": "code",
   "execution_count": null,
   "id": "d89b10c8-2e84-4e22-841a-0ab0f384cf59",
   "metadata": {},
   "outputs": [],
   "source": [
    "# Main loop for recommendations\n",
    "while True:\n",
    "    # Get user input\n",
    "    favorite_genre = input(\"Enter your favorite genre: \").capitalize()\n",
    "\n",
    "    # Check if genre is valid or find the closest match\n",
    "    if favorite_genre in available_genres:\n",
    "        selected_genre = favorite_genre\n",
    "    else:\n",
    "        selected_genre = get_closest_genre(favorite_genre)\n",
    "        if selected_genre:\n",
    "            print(f\"Did you mean '{selected_genre}'? Showing recommendations for '{selected_genre}'.\")\n",
    "        else:\n",
    "            print(\"Genre not found. Please check your spelling or try a different genre.\")\n",
    "            selected_genre = None\n",
    "\n",
    "    # If a valid genre is found, display recommendations\n",
    "    if selected_genre:\n",
    "        recommended_movies = movies_df[movies_df['genre'] == selected_genre]\n",
    "        print(\"\\nRecommended Movies:\")\n",
    "        print(recommended_movies[['title', 'genre', 'rating']])\n",
    "\n",
    "    # Ask the user if they want to try again\n",
    "    try_again = input(\"\\nWould you like to search for another genre? (yes/no): \").strip().lower()\n",
    "    if try_again != 'yes':\n",
    "        print(\"Thank you for using the movie recommendation system!\")\n",
    "        break"
   ]
  },
  {
   "cell_type": "code",
   "execution_count": null,
   "id": "f3b46e54-2787-4a95-8fc5-1d195e980e14",
   "metadata": {},
   "outputs": [],
   "source": []
  }
 ],
 "metadata": {
  "kernelspec": {
   "display_name": "Python 3 (ipykernel)",
   "language": "python",
   "name": "python3"
  },
  "language_info": {
   "codemirror_mode": {
    "name": "ipython",
    "version": 3
   },
   "file_extension": ".py",
   "mimetype": "text/x-python",
   "name": "python",
   "nbconvert_exporter": "python",
   "pygments_lexer": "ipython3",
   "version": "3.12.4"
  }
 },
 "nbformat": 4,
 "nbformat_minor": 5
}
