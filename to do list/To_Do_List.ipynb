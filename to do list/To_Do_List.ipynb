{
 "cells": [
  {
   "cell_type": "code",
   "execution_count": 74,
   "id": "7e9fee13-a779-43ab-b74b-5d64bf1fbb8b",
   "metadata": {},
   "outputs": [],
   "source": [
    "import json\n",
    "import os\n"
   ]
  },
  {
   "cell_type": "code",
   "execution_count": 76,
   "id": "83c7c013-d22e-441d-9c24-19ff005e12e8",
   "metadata": {},
   "outputs": [],
   "source": [
    "def register_user(filename=\"user.json\"):\n",
    "    if os.path.exists(filename):\n",
    "        with open(filename, \"r\") as file:\n",
    "            user = json.load(file)\n",
    "            print(f\"Welcome back, {user['name']}!\")\n",
    "            return user\n",
    "    else:\n",
    "        name = input(\"Enter your name: \")\n",
    "        email = input(\"Enter your email: \")\n",
    "        user = {\"name\": name, \"email\": email}\n",
    "        with open(filename, \"w\") as file:\n",
    "            json.dump(user, file)\n",
    "        print(f\"User registered: {name}\")\n",
    "        return user"
   ]
  },
  {
   "cell_type": "code",
   "execution_count": 78,
   "id": "17c29d01-c6ad-4f30-9369-ce06564baf9f",
   "metadata": {},
   "outputs": [],
   "source": [
    "def load_tasks(filename=\"tasks.json\"):\n",
    "    if os.path.exists(filename):\n",
    "        with open(filename, \"r\") as file:\n",
    "            try:\n",
    "                tasks = json.load(file)\n",
    "                if isinstance(tasks, list):\n",
    "                    return tasks\n",
    "                else:\n",
    "                    return []\n",
    "            except json.JSONDecodeError:\n",
    "                return []\n",
    "    return []\n"
   ]
  },
  {
   "cell_type": "code",
   "execution_count": 80,
   "id": "c266a2da-bff7-4750-8e98-de247855aa9b",
   "metadata": {},
   "outputs": [],
   "source": [
    "def save_tasks(tasks, filename=\"tasks.json\"):\n",
    "    with open(filename, \"w\") as file:\n",
    "        json.dump(tasks, file, indent=4)\n",
    "\n"
   ]
  },
  {
   "cell_type": "code",
   "execution_count": 82,
   "id": "48979c77-3ddd-4174-9770-7b6470b34799",
   "metadata": {},
   "outputs": [],
   "source": [
    "def add_task(task):\n",
    "    tasks = load_tasks()\n",
    "    tasks.append({\"task\": task})\n",
    "    save_tasks(tasks)\n",
    "    print(f\"Task '{task}' has been added.\")\n",
    "\n"
   ]
  },
  {
   "cell_type": "code",
   "execution_count": 84,
   "id": "27408300-a4a8-47b3-8bee-f6f6e60d5380",
   "metadata": {},
   "outputs": [],
   "source": [
    "def view_tasks(user):\n",
    "    print(f\"\\nTasks for {user['name']} ({user['email']}):\")\n",
    "    tasks = load_tasks()\n",
    "    if not tasks:\n",
    "        print(\"No tasks available.\")\n",
    "    else:\n",
    "        for idx, task in enumerate(tasks, start=1):\n",
    "            status = \"Done\" if task.get(\"done\", False) else \"Not Done\"\n",
    "            print(f\"{idx}. {task['task']} - {status}\")"
   ]
  },
  {
   "cell_type": "code",
   "execution_count": 86,
   "id": "a3f2221f-d70e-40b0-a62d-46e3660bb67b",
   "metadata": {},
   "outputs": [],
   "source": [
    "def complete_task(task_number):\n",
    "    tasks = load_tasks()\n",
    "    if 0 < task_number <= len(tasks):\n",
    "        tasks[task_number - 1][\"done\"] = True\n",
    "        save_tasks(tasks)\n",
    "        print(f\"Task {task_number} marked as done.\")\n",
    "    else:\n",
    "        print(\"Invalid task number.\")\n",
    "\n"
   ]
  },
  {
   "cell_type": "code",
   "execution_count": 88,
   "id": "d4e16832-e5f9-46f7-9972-4dd7a0c88afc",
   "metadata": {},
   "outputs": [],
   "source": [
    "def delete_task(task_number):\n",
    "    tasks = load_tasks()\n",
    "    if 0 < task_number <= len(tasks):\n",
    "        del tasks[task_number - 1]  # Remove the task from the list\n",
    "        save_tasks(tasks)\n",
    "        print(f\"Task {task_number} has been deleted.\")\n",
    "    else:\n",
    "        print(\"Invalid task number.\")\n"
   ]
  },
  {
   "cell_type": "code",
   "execution_count": 90,
   "id": "cf4c0a1f-4c59-439a-a3b7-1d65e4b315bd",
   "metadata": {},
   "outputs": [
    {
     "name": "stdin",
     "output_type": "stream",
     "text": [
      "Enter your name:  Faseeh shah \n",
      "Enter your email:  faseeh656@gmail.com\n"
     ]
    },
    {
     "name": "stdout",
     "output_type": "stream",
     "text": [
      "User registered: Faseeh shah \n",
      "\n",
      "To-Do List Application\n",
      "1. Add task\n",
      "2. View tasks\n",
      "3. Complete task\n",
      "4. Delete task\n",
      "5. Quit\n"
     ]
    },
    {
     "name": "stdin",
     "output_type": "stream",
     "text": [
      "Choose an option:  1\n",
      "Enter the task:  yyy\n"
     ]
    },
    {
     "name": "stdout",
     "output_type": "stream",
     "text": [
      "Task 'yyy' has been added.\n",
      "\n",
      "To-Do List Application\n",
      "1. Add task\n",
      "2. View tasks\n",
      "3. Complete task\n",
      "4. Delete task\n",
      "5. Quit\n"
     ]
    },
    {
     "name": "stdin",
     "output_type": "stream",
     "text": [
      "Choose an option:  2\n"
     ]
    },
    {
     "name": "stdout",
     "output_type": "stream",
     "text": [
      "\n",
      "Tasks for Faseeh shah  (faseeh656@gmail.com):\n",
      "1. pray - Not Done\n",
      "2. praying - Not Done\n",
      "3. exam prep - Done\n",
      "4. magrib - Not Done\n",
      "5. yyy - Not Done\n",
      "\n",
      "To-Do List Application\n",
      "1. Add task\n",
      "2. View tasks\n",
      "3. Complete task\n",
      "4. Delete task\n",
      "5. Quit\n"
     ]
    },
    {
     "name": "stdin",
     "output_type": "stream",
     "text": [
      "Choose an option:  5\n"
     ]
    },
    {
     "name": "stdout",
     "output_type": "stream",
     "text": [
      "Exiting the to-do list app.\n"
     ]
    }
   ],
   "source": [
    "def main():\n",
    "    user = register_user()  # Register or load existing user\n",
    "\n",
    "    while True:\n",
    "        print(\"\\nTo-Do List Application\")\n",
    "        print(\"1. Add task\")\n",
    "        print(\"2. View tasks\")\n",
    "        print(\"3. Complete task\")\n",
    "        print(\"4. Delete task\")\n",
    "        print(\"5. Quit\")\n",
    "        \n",
    "        choice = input(\"Choose an option: \")\n",
    "        \n",
    "        if choice == \"1\":\n",
    "            task = input(\"Enter the task: \")\n",
    "            add_task(task)\n",
    "        elif choice == \"2\":\n",
    "            view_tasks(user)\n",
    "        elif choice == \"3\":\n",
    "            try:\n",
    "                task_number = int(input(\"Enter task number to mark as done: \"))\n",
    "                complete_task(task_number)\n",
    "            except ValueError:\n",
    "                print(\"Please enter a valid number.\")\n",
    "        elif choice == \"4\":\n",
    "            try:\n",
    "                task_number = int(input(\"Enter task number to delete: \"))\n",
    "                delete_task(task_number)\n",
    "            except ValueError:\n",
    "                print(\"Please enter a valid number.\")\n",
    "        elif choice == \"5\":\n",
    "            print(\"Exiting the to-do list app.\")\n",
    "            break\n",
    "        else:\n",
    "            print(\"Invalid option. Please choose a number between 1 and 5.\")\n",
    "\n",
    "if __name__ == \"__main__\":\n",
    "    main()"
   ]
  },
  {
   "cell_type": "code",
   "execution_count": null,
   "id": "ade1b7c2-b1b8-47cf-87b2-fdd2e3a9989d",
   "metadata": {},
   "outputs": [],
   "source": []
  },
  {
   "cell_type": "code",
   "execution_count": null,
   "id": "b7b7d51e-9335-46ce-a7d8-8568e1b86092",
   "metadata": {},
   "outputs": [],
   "source": []
  },
  {
   "cell_type": "code",
   "execution_count": null,
   "id": "91061540-0ad7-4647-8566-b4035761ba94",
   "metadata": {},
   "outputs": [],
   "source": []
  }
 ],
 "metadata": {
  "kernelspec": {
   "display_name": "Python 3 (ipykernel)",
   "language": "python",
   "name": "python3"
  },
  "language_info": {
   "codemirror_mode": {
    "name": "ipython",
    "version": 3
   },
   "file_extension": ".py",
   "mimetype": "text/x-python",
   "name": "python",
   "nbconvert_exporter": "python",
   "pygments_lexer": "ipython3",
   "version": "3.12.4"
  }
 },
 "nbformat": 4,
 "nbformat_minor": 5
}
