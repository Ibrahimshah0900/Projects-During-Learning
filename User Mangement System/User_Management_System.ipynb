{
 "cells": [
  {
   "cell_type": "code",
   "execution_count": 49,
   "id": "babdd811-5d76-4ed3-917a-08e527029701",
   "metadata": {},
   "outputs": [],
   "source": [
    "import json\n",
    "import re\n",
    "\n"
   ]
  },
  {
   "cell_type": "code",
   "execution_count": 51,
   "id": "33c016c1-997d-4874-baac-e8ae71a7a608",
   "metadata": {},
   "outputs": [],
   "source": [
    "# Load data from a JSON file\n",
    "def load_data(file_path):\n",
    "    try:\n",
    "        with open(file_path, \"r\") as file:\n",
    "            return json.load(file)\n",
    "    except (FileNotFoundError, json.JSONDecodeError):\n",
    "        return []\n",
    "\n"
   ]
  },
  {
   "cell_type": "code",
   "execution_count": 53,
   "id": "c38bd65b-d207-4060-aaa9-09262ef38c25",
   "metadata": {},
   "outputs": [],
   "source": [
    "# Save data to a JSON file\n",
    "def save_data(data, file_path):\n",
    "    with open(file_path, \"w\") as file:\n",
    "        json.dump(data, file, indent=4)\n",
    "\n"
   ]
  },
  {
   "cell_type": "code",
   "execution_count": 55,
   "id": "21fd00a8-39ae-4195-851a-d6dd32e39ff4",
   "metadata": {},
   "outputs": [],
   "source": [
    "# Add user with validation\n",
    "def add_user(file_path, username, email, preferences):\n",
    "    # Validate email format\n",
    "    if not re.match(r\"[^@]+@[^@]+\\.[^@]+\", email):\n",
    "        return \"Invalid email format\"\n",
    "\n",
    "    data = load_data(file_path)\n",
    "    # Check if username or email already exists\n",
    "    if any(user[\"username\"] == username or user[\"email\"] == email for user in data):\n",
    "        return \"Username or email already exists in the data file\"\n",
    "\n",
    "    # Add new user\n",
    "    data.append({\"username\": username, \"email\": email, \"preferences\": preferences})\n",
    "    save_data(data, file_path)\n",
    "    return \"User has been added successfully\"\n",
    "\n"
   ]
  },
  {
   "cell_type": "code",
   "execution_count": 57,
   "id": "232a7044-105a-475c-93df-002e0bc5cd88",
   "metadata": {},
   "outputs": [],
   "source": [
    "# Update user with flexible field updates\n",
    "def update_user(file_path, username, updated_info):\n",
    "    data = load_data(file_path)\n",
    "    for user in data:\n",
    "        if user[\"username\"] == username:\n",
    "            user.update(updated_info)\n",
    "            save_data(data, file_path)\n",
    "            return \"User has been updated successfully\"\n",
    "    return \"User not found in the data\"\n",
    "\n"
   ]
  },
  {
   "cell_type": "code",
   "execution_count": 59,
   "id": "83607680-3039-498f-a66c-96e8cac8d01c",
   "metadata": {},
   "outputs": [],
   "source": [
    "# Delete user with confirmation message\n",
    "def delete_user(file_path, username):\n",
    "    data = load_data(file_path)\n",
    "    new_data = [user for user in data if user[\"username\"] != username]\n",
    "    if len(data) == len(new_data):\n",
    "        return \"User not found in data file\"\n",
    "\n",
    "    save_data(new_data, file_path)\n",
    "    return \"User has been deleted successfully\"\n",
    "\n",
    "\n",
    "    "
   ]
  },
  {
   "cell_type": "code",
   "execution_count": 61,
   "id": "37cbae50-09cf-42ae-8113-9a5367682b54",
   "metadata": {},
   "outputs": [],
   "source": [
    "# Query user by username or email\n",
    "def query_user(file_path, identifier):\n",
    "    data = load_data(file_path)\n",
    "    for user in data:\n",
    "        if user[\"username\"] == identifier or user[\"email\"] == identifier:\n",
    "            return user\n",
    "    return \"User not found\"\n",
    "\n",
    "\n",
    "        "
   ]
  },
  {
   "cell_type": "code",
   "execution_count": 67,
   "id": "b9c801a7-d2f6-4bcf-9171-0ef38847c677",
   "metadata": {},
   "outputs": [
    {
     "name": "stdout",
     "output_type": "stream",
     "text": [
      "User has been added successfully\n",
      "{'username': 'john_doe', 'email': 'john@example.com', 'preferences': {'theme': 'dark', 'notifications': True}}\n",
      "User has been updated successfully\n"
     ]
    }
   ],
   "source": [
    "# Example usage\n",
    "file_path = 'users.json'\n",
    "print(add_user(file_path, 'john_doe', 'john@example.com', {'theme': 'dark', 'notifications': True}))\n",
    "print(query_user(file_path, 'john_doe'))\n",
    "print(update_user(file_path, 'john_doe', {'theme': 'light'}))\n",
    "print(delete_user(file_path, 'john_doe'))"
   ]
  },
  {
   "cell_type": "code",
   "execution_count": null,
   "id": "f4c854c7-0a07-4b87-96fa-d906cc9de40e",
   "metadata": {},
   "outputs": [],
   "source": []
  }
 ],
 "metadata": {
  "kernelspec": {
   "display_name": "Python 3 (ipykernel)",
   "language": "python",
   "name": "python3"
  },
  "language_info": {
   "codemirror_mode": {
    "name": "ipython",
    "version": 3
   },
   "file_extension": ".py",
   "mimetype": "text/x-python",
   "name": "python",
   "nbconvert_exporter": "python",
   "pygments_lexer": "ipython3",
   "version": "3.12.4"
  }
 },
 "nbformat": 4,
 "nbformat_minor": 5
}
